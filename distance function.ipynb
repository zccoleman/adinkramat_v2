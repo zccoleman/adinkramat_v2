{
 "cells": [
  {
   "cell_type": "code",
   "execution_count": 71,
   "metadata": {},
   "outputs": [
    {
     "name": "stdout",
     "output_type": "stream",
     "text": [
      "The distance from [3, 1, 4, 2] to [1, 3, 2, 4] is 2.\n"
     ]
    }
   ],
   "source": [
    "#works generally\n",
    "\n",
    "a = [1,3,2,4] #point distance is measured from\n",
    "b = [3,1,4,2] #point distance is measured to\n",
    "\n",
    "\n",
    "B=list.copy(b)\n",
    "for i in range(len(a)):\n",
    "    for j in range(len(b)):\n",
    "        if (a[i]==b[j]):\n",
    "            B[j]=(b[j],i)\n",
    "\n",
    "d = 0\n",
    "\n",
    "for i in range(len(B)):\n",
    "    for j in range(i+1,len(B)):\n",
    "        if B[i][1]>B[j][1]:\n",
    "            for k in range(j,i,-1):\n",
    "                x = B[k]\n",
    "                B[k] = B[k-1]\n",
    "                B[k-1] = x\n",
    "                d += 1\n",
    "\n",
    "\n",
    "print(\"The distance from\", str(b), \"to\", str(a), \"is\", str(d) + \".\")\n"
   ]
  },
  {
   "cell_type": "code",
   "execution_count": 35,
   "metadata": {
    "scrolled": true
   },
   "outputs": [
    {
     "name": "stdout",
     "output_type": "stream",
     "text": [
      "The distance from [3, 1, 4, 2] to [1, 2, 3, 4] is 3\n"
     ]
    }
   ],
   "source": [
    "#only calculates distance to [1,2,3,4]\n",
    "\n",
    "a = [1,2,3,4]\n",
    "b = [3,1,4,2]\n",
    "\n",
    "c=list.copy(b)\n",
    "d = 0\n",
    "\n",
    "for i in range(len(c)):\n",
    "    for j in range(i+1,len(c)):\n",
    "        if c[i]>c[j]:\n",
    "            for k in range(j,i,-1):\n",
    "                x = c[k]\n",
    "                c[k] = c[k-1]\n",
    "                c[k-1] = x\n",
    "                d += 1\n",
    "\n",
    "\n",
    "\n",
    "print(\"The distance from \" + str(b) + \" to \" + str(a) + \" is \" + str(d))\n",
    "    "
   ]
  },
  {
   "cell_type": "code",
   "execution_count": null,
   "metadata": {},
   "outputs": [],
   "source": []
  }
 ],
 "metadata": {
  "kernelspec": {
   "display_name": "Python 3",
   "language": "python",
   "name": "python3"
  },
  "language_info": {
   "codemirror_mode": {
    "name": "ipython",
    "version": 3
   },
   "file_extension": ".py",
   "mimetype": "text/x-python",
   "name": "python",
   "nbconvert_exporter": "python",
   "pygments_lexer": "ipython3",
   "version": "3.7.1"
  }
 },
 "nbformat": 4,
 "nbformat_minor": 2
}
